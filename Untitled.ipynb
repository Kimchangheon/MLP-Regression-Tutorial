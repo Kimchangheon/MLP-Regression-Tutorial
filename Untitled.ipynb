{
 "cells": [
  {
   "cell_type": "code",
   "execution_count": 8,
   "metadata": {},
   "outputs": [
    {
     "name": "stdout",
     "output_type": "stream",
     "text": [
      "Standardized: -435.97 (189.16) MSE\n"
     ]
    }
   ],
   "source": [
    "import numpy as np\n",
    "import pandas as pd\n",
    "from keras.models import Sequential\n",
    "from keras.layers import Dense\n",
    "from keras.wrappers.scikit_learn import KerasRegressor\n",
    "from sklearn.model_selection import cross_val_score\n",
    "from sklearn.model_selection import KFold\n",
    "from sklearn.preprocessing import StandardScaler\n",
    "from sklearn.pipeline import Pipeline\n",
    "\n",
    "# load dataset\n",
    "dataframe = pd.read_csv(\"housing2.csv\")\n",
    "df = dataframe.dropna() # 결측치 처리.\n",
    "dataset = df.values\n",
    "# split into input (X) and output (Y) variables\n",
    "X = dataset[:,0:13]\n",
    "Y = dataset[:,13]\n",
    "\n",
    "# define base model\n",
    "def baseline_model():\n",
    "    # create model\n",
    "    model = Sequential()\n",
    "    model.add(Dense(13, input_dim=13, kernel_initializer='normal', activation='relu'))\n",
    "    model.add(Dense(1, kernel_initializer='normal'))\n",
    "    # Compile model\n",
    "    model.compile(loss='mean_squared_error', optimizer='adam')\n",
    "    return model\n",
    "\n",
    "# evaluate model with standardized dataset\n",
    "seed = 7\n",
    "np.random.seed(seed)\n",
    "estimators = []\n",
    "estimators.append(('standardize', StandardScaler()))\n",
    "estimators.append(('mlp', KerasRegressor(build_fn=baseline_model, epochs=5, batch_size=5, verbose=0)))\n",
    "pipeline = Pipeline(estimators)\n",
    "kfold = KFold(n_splits=10, random_state=seed)\n",
    "results = cross_val_score(pipeline, X, Y, cv=kfold)\n",
    "print(\"Standardized: %.2f (%.2f) MSE\" % (results.mean(), results.std()))"
   ]
  },
  {
   "cell_type": "code",
   "execution_count": 2,
   "metadata": {},
   "outputs": [
    {
     "name": "stderr",
     "output_type": "stream",
     "text": [
      "Using TensorFlow backend.\n"
     ]
    }
   ],
   "source": [
    "import numpy as np\n",
    "import pandas as pd\n",
    "from keras.models import Sequential\n",
    "from keras.layers import Dense\n",
    "from keras.wrappers.scikit_learn import KerasRegressor\n",
    "from sklearn.model_selection import cross_val_score\n",
    "from sklearn.model_selection import KFold\n",
    "from sklearn.preprocessing import StandardScaler\n",
    "from sklearn.pipeline import Pipeline"
   ]
  },
  {
   "cell_type": "code",
   "execution_count": 3,
   "metadata": {},
   "outputs": [],
   "source": [
    "# load dataset\n",
    "dataframe = pd.read_csv(\"housing.csv\")\n",
    "dataframe.dropna()\n",
    "dataset = dataframe.values\n",
    "# split into input (X) and output (Y) variables\n",
    "X = dataset[:,0:13]\n",
    "Y = dataset[:,13]"
   ]
  },
  {
   "cell_type": "code",
   "execution_count": 5,
   "metadata": {},
   "outputs": [
    {
     "name": "stdout",
     "output_type": "stream",
     "text": [
      "     0.00632    18   2.31    0  0.538  6.575   65.2    4.09   1    296  15.3  \\\n",
      "0    0.02731   0.0   7.07  0.0  0.469  6.421   78.9  4.9671   2  242.0  17.8   \n",
      "1    0.02729   0.0   7.07  0.0  0.469  7.185   61.1  4.9671   2  242.0  17.8   \n",
      "2    0.03237   0.0   2.18  0.0  0.458  6.998   45.8  6.0622   3  222.0  18.7   \n",
      "3    0.06905   0.0   2.18  0.0  0.458  7.147   54.2  6.0622   3  222.0  18.7   \n",
      "4    0.02985   0.0   2.18  0.0  0.458  6.430   58.7  6.0622   3  222.0  18.7   \n",
      "5    0.08829  12.5   7.87  0.0  0.524  6.012   66.6  5.5605   5  311.0  15.2   \n",
      "6    0.14455  12.5   7.87  0.0  0.524  6.172   96.1  5.9505   5  311.0  15.2   \n",
      "7    0.21124  12.5   7.87  0.0  0.524  5.631  100.0  6.0821   5  311.0  15.2   \n",
      "8    0.17004  12.5   7.87  0.0  0.524  6.004   85.9  6.5921   5  311.0  15.2   \n",
      "9    0.22489  12.5   7.87  0.0  0.524  6.377   94.3  6.3467   5  311.0  15.2   \n",
      "10   0.11747  12.5   7.87  0.0  0.524  6.009   82.9  6.2267   5  311.0  15.2   \n",
      "11   0.09378  12.5   7.87  0.0  0.524  5.889   39.0  5.4509   5  311.0  15.2   \n",
      "12   0.62976   0.0   8.14  0.0  0.538  5.949   61.8  4.7075   4  307.0  21.0   \n",
      "13   0.63796   0.0   8.14  0.0  0.538  6.096   84.5  4.4619   4  307.0  21.0   \n",
      "14   0.62739   0.0   8.14  0.0  0.538  5.834   56.5  4.4986   4  307.0  21.0   \n",
      "15   1.05393   0.0   8.14  0.0  0.538  5.935   29.3  4.4986   4  307.0  21.0   \n",
      "16   0.78420   0.0   8.14  0.0  0.538  5.990   81.7  4.2579   4  307.0  21.0   \n",
      "17   0.80271   0.0   8.14  0.0  0.538  5.456   36.6  3.7965   4  307.0  21.0   \n",
      "18   0.72580   0.0   8.14  0.0  0.538  5.727   69.5  3.7965   4  307.0  21.0   \n",
      "19   1.25179   0.0   8.14  0.0  0.538  5.570   98.1  3.7979   4  307.0  21.0   \n",
      "20   0.85204   0.0   8.14  0.0  0.538  5.965   89.2  4.0123   4  307.0  21.0   \n",
      "21   1.23247   0.0   8.14  0.0  0.538  6.142   91.7  3.9769   4  307.0  21.0   \n",
      "22   0.98843   0.0   8.14  0.0  0.538  5.813  100.0  4.0952   4  307.0  21.0   \n",
      "23   0.75026   0.0   8.14  0.0  0.538  5.924   94.1  4.3996   4  307.0  21.0   \n",
      "24   0.84054   0.0   8.14  0.0  0.538  5.599   85.7  4.4546   4  307.0  21.0   \n",
      "25   0.67191   0.0   8.14  0.0  0.538  5.813   90.3  4.6820   4  307.0  21.0   \n",
      "26   0.95577   0.0   8.14  0.0  0.538  6.047   88.8  4.4534   4  307.0  21.0   \n",
      "27   0.77299   0.0   8.14  0.0  0.538  6.495   94.4  4.4547   4  307.0  21.0   \n",
      "28   1.00245   0.0   8.14  0.0  0.538  6.674   87.3  4.2390   4  307.0  21.0   \n",
      "29   1.13081   0.0   8.14  0.0  0.538  5.713   94.1  4.2330   4  307.0  21.0   \n",
      "..       ...   ...    ...  ...    ...    ...    ...     ...  ..    ...   ...   \n",
      "472  4.64689   0.0  18.10  0.0  0.614  6.980   67.6  2.5329  24  666.0  20.2   \n",
      "473  8.05579   0.0  18.10  0.0  0.584  5.427   95.4  2.4298  24  666.0  20.2   \n",
      "474  6.39312   0.0  18.10  0.0  0.584  6.162   97.4  2.2060  24  666.0  20.2   \n",
      "475  4.87141   0.0  18.10  0.0  0.614  6.484   93.6  2.3053  24  666.0  20.2   \n",
      "479  5.82401   0.0  18.10  0.0  0.532  6.242   64.7  3.4242  24  666.0  20.2   \n",
      "480  5.70818   0.0  18.10  0.0  0.532  6.750   74.9  3.3317  24  666.0  20.2   \n",
      "481  5.73116   0.0  18.10  0.0  0.532  7.061   77.0  3.4106  24  666.0  20.2   \n",
      "482  2.81838   0.0  18.10  0.0  0.532  5.762   40.3  4.0983  24  666.0  20.2   \n",
      "483  2.37857   0.0  18.10  0.0  0.583  5.871   41.9  3.7240  24  666.0  20.2   \n",
      "484  3.67367   0.0  18.10  0.0  0.583  6.312   51.9  3.9917  24  666.0  20.2   \n",
      "485  5.69175   0.0  18.10  0.0  0.583  6.114   79.8  3.5459  24  666.0  20.2   \n",
      "486  4.83567   0.0  18.10  0.0  0.583  5.905   53.2  3.1523  24  666.0  20.2   \n",
      "487  0.15086   0.0  27.74  0.0  0.609  5.454   92.7  1.8209   4  711.0  20.1   \n",
      "488  0.18337   0.0  27.74  0.0  0.609  5.414   98.3  1.7554   4  711.0  20.1   \n",
      "489  0.20746   0.0  27.74  0.0  0.609  5.093   98.0  1.8226   4  711.0  20.1   \n",
      "490  0.10574   0.0  27.74  0.0  0.609  5.983   98.8  1.8681   4  711.0  20.1   \n",
      "491  0.11132   0.0  27.74  0.0  0.609  5.983   83.5  2.1099   4  711.0  20.1   \n",
      "492  0.17331   0.0   9.69  0.0  0.585  5.707   54.0  2.3817   6  391.0  19.2   \n",
      "493  0.27957   0.0   9.69  0.0  0.585  5.926   42.6  2.3817   6  391.0  19.2   \n",
      "494  0.17899   0.0   9.69  0.0  0.585  5.670   28.8  2.7986   6  391.0  19.2   \n",
      "495  0.28960   0.0   9.69  0.0  0.585  5.390   72.9  2.7986   6  391.0  19.2   \n",
      "496  0.26838   0.0   9.69  0.0  0.585  5.794   70.6  2.8927   6  391.0  19.2   \n",
      "497  0.23912   0.0   9.69  0.0  0.585  6.019   65.3  2.4091   6  391.0  19.2   \n",
      "498  0.17783   0.0   9.69  0.0  0.585  5.569   73.5  2.3999   6  391.0  19.2   \n",
      "499  0.22438   0.0   9.69  0.0  0.585  6.027   79.7  2.4982   6  391.0  19.2   \n",
      "500  0.06263   0.0  11.93  0.0  0.573  6.593   69.1  2.4786   1  273.0  21.0   \n",
      "501  0.04527   0.0  11.93  0.0  0.573  6.120   76.7  2.2875   1  273.0  21.0   \n",
      "502  0.06076   0.0  11.93  0.0  0.573  6.976   91.0  2.1675   1  273.0  21.0   \n",
      "503  0.10959   0.0  11.93  0.0  0.573  6.794   89.3  2.3889   1  273.0  21.0   \n",
      "504  0.04741   0.0  11.93  0.0  0.573  6.030   80.8  2.5050   1  273.0  21.0   \n",
      "\n",
      "      396.9   4.98    24  \n",
      "0    396.90   9.14  21.6  \n",
      "1    392.83   4.03  34.7  \n",
      "2    394.63   2.94  33.4  \n",
      "3    396.90   5.33  36.2  \n",
      "4    394.12   5.21  28.7  \n",
      "5    395.60  12.43  22.9  \n",
      "6    396.90  19.15  27.1  \n",
      "7    386.63  29.93  16.5  \n",
      "8    386.71  17.10  18.9  \n",
      "9    392.52  20.45  15.0  \n",
      "10   396.90  13.27  18.9  \n",
      "11   390.50  15.71  21.7  \n",
      "12   396.90   8.26  20.4  \n",
      "13   380.02  10.26  18.2  \n",
      "14   395.62   8.47  19.9  \n",
      "15   386.85   6.58  23.1  \n",
      "16   386.75  14.67  17.5  \n",
      "17   288.99  11.69  20.2  \n",
      "18   390.95  11.28  18.2  \n",
      "19   376.57  21.02  13.6  \n",
      "20   392.53  13.83  19.6  \n",
      "21   396.90  18.72  15.2  \n",
      "22   394.54  19.88  14.5  \n",
      "23   394.33  16.30  15.6  \n",
      "24   303.42  16.51  13.9  \n",
      "25   376.88  14.81  16.6  \n",
      "26   306.38  17.28  14.8  \n",
      "27   387.94  12.80  18.4  \n",
      "28   380.23  11.98  21.0  \n",
      "29   360.17  22.60  12.7  \n",
      "..      ...    ...   ...  \n",
      "472  374.68  11.66  29.8  \n",
      "473  352.58  18.14  13.8  \n",
      "474  302.76  24.10  13.3  \n",
      "475  396.21  18.68  16.7  \n",
      "479  396.90  10.74  23.0  \n",
      "480  393.07   7.74  23.7  \n",
      "481  395.28   7.01  25.0  \n",
      "482  392.92  10.42  21.8  \n",
      "483  370.73  13.34  20.6  \n",
      "484  388.62  10.58  21.2  \n",
      "485  392.68  14.98  19.1  \n",
      "486  388.22  11.45  20.6  \n",
      "487  395.09  18.06  15.2  \n",
      "488  344.05  23.97   7.0  \n",
      "489  318.43  29.68   8.1  \n",
      "490  390.11  18.07  13.6  \n",
      "491  396.90  13.35  20.1  \n",
      "492  396.90  12.01  21.8  \n",
      "493  396.90  13.59  24.5  \n",
      "494  393.29  17.60  23.1  \n",
      "495  396.90  21.14  19.7  \n",
      "496  396.90  14.10  18.3  \n",
      "497  396.90  12.92  21.2  \n",
      "498  395.77  15.10  17.5  \n",
      "499  396.90  14.33  16.8  \n",
      "500  391.99   9.67  22.4  \n",
      "501  396.90   9.08  20.6  \n",
      "502  396.90   5.64  23.9  \n",
      "503  393.45   6.48  22.0  \n",
      "504  396.90   7.88  11.9  \n",
      "\n",
      "[451 rows x 14 columns]\n"
     ]
    }
   ],
   "source": [
    "print(dataframe.dropna())"
   ]
  },
  {
   "cell_type": "code",
   "execution_count": null,
   "metadata": {},
   "outputs": [],
   "source": []
  },
  {
   "cell_type": "code",
   "execution_count": null,
   "metadata": {},
   "outputs": [],
   "source": [
    "# define base model\n",
    "def baseline_model():\n",
    "    # create model\n",
    "    model = Sequential()\n",
    "    model.add(Dense(13, input_dim=13, kernel_initializer='normal', activation='relu'))\n",
    "    model.add(Dense(1, kernel_initializer='normal'))\n",
    "    # Compile model\n",
    "    model.compile(loss='mean_squared_error', optimizer='adam')\n",
    "    return model"
   ]
  },
  {
   "cell_type": "code",
   "execution_count": null,
   "metadata": {},
   "outputs": [],
   "source": [
    "# fix random seed for reproducibility\n",
    "seed = 7\n",
    "np.random.seed(seed)\n",
    "# evaluate model with standardized dataset\n",
    "estimator = KerasRegressor(build_fn=baseline_model, epochs=2, batch_size=5)"
   ]
  },
  {
   "cell_type": "code",
   "execution_count": null,
   "metadata": {},
   "outputs": [],
   "source": [
    "kfold = KFold(n_splits=5, random_state=seed)\n",
    "results = cross_val_score(estimator, X, Y, cv=kfold)\n",
    "print(\"Results: %.2f (%.2f) MSE\" % (results.mean(), results.std()))"
   ]
  },
  {
   "cell_type": "code",
   "execution_count": null,
   "metadata": {},
   "outputs": [],
   "source": [
    "# evaluate model with standardized dataset\n",
    "numpy.random.seed(seed)\n",
    "estimators = []\n",
    "estimators.append(('standardize', StandardScaler()))\n",
    "estimators.append(('mlp', KerasRegressor(build_fn=baseline_model, epochs=5, batch_size=5, verbose=0)))\n",
    "pipeline = Pipeline(estimators)\n",
    "kfold = KFold(n_splits=10, random_state=seed)\n",
    "results = cross_val_score(pipeline, X, Y, cv=kfold)\n",
    "print(\"Standardized: %.2f (%.2f) MSE\" % (results.mean(), results.std()))"
   ]
  },
  {
   "cell_type": "code",
   "execution_count": null,
   "metadata": {},
   "outputs": [],
   "source": [
    "Y"
   ]
  }
 ],
 "metadata": {
  "kernelspec": {
   "display_name": "Python 3",
   "language": "python",
   "name": "python3"
  },
  "language_info": {
   "codemirror_mode": {
    "name": "ipython",
    "version": 3
   },
   "file_extension": ".py",
   "mimetype": "text/x-python",
   "name": "python",
   "nbconvert_exporter": "python",
   "pygments_lexer": "ipython3",
   "version": "3.6.6"
  }
 },
 "nbformat": 4,
 "nbformat_minor": 2
}
